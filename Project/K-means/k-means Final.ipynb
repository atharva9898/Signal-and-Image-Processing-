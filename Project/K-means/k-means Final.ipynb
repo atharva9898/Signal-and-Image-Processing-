{
 "cells": [
  {
   "cell_type": "code",
   "execution_count": 13,
   "metadata": {},
   "outputs": [],
   "source": [
    "import numpy as np\n",
    "import cv2\n",
    "import matplotlib.pyplot as plt\n",
    "import time\n",
    "from skimage.metrics import structural_similarity as ssim\n",
    "from skimage.metrics import peak_signal_noise_ratio as psnr"
   ]
  },
  {
   "cell_type": "code",
   "execution_count": 14,
   "metadata": {},
   "outputs": [],
   "source": [
    "def read_image():\n",
    "    img = cv2.imread(r\"win.jpeg\")\n",
    "    img = cv2.cvtColor(img, cv2.COLOR_BGR2RGB)\n",
    "    img = img/255.0\n",
    "\n",
    "    return img"
   ]
  },
  {
   "cell_type": "code",
   "execution_count": 15,
   "metadata": {},
   "outputs": [],
   "source": [
    "def initialize_means(img, clusters):\n",
    "    points = img.reshape((-1, img.shape[2]))\n",
    "    m, n = points.shape\n",
    "\n",
    "    means = np.zeros((clusters, n))\n",
    "\n",
    "    for i in range(clusters):\n",
    "        rand_indices = np.random.choice(m, size=10, replace=False)\n",
    "        means[i] = np.mean(points[rand_indices], axis=0)\n",
    "\n",
    "    return points, means"
   ]
  },
  {
   "cell_type": "code",
   "execution_count": 16,
   "metadata": {},
   "outputs": [],
   "source": [
    "def distance(x1, y1, x2, y2):\n",
    "    dist = np.square(x1-x2) + np.square(y1-y2)\n",
    "    dist = np.sqrt(dist)\n",
    "\n",
    "    return dist"
   ]
  },
  {
   "cell_type": "code",
   "execution_count": 17,
   "metadata": {},
   "outputs": [],
   "source": [
    "def k_means(points, means, clusters):\n",
    "  iterations = 10\n",
    "  m,n = points.shape\n",
    "\n",
    "  index = np.zeros(m)\n",
    "\n",
    "  while iterations > 0:\n",
    "    for j in range(m):\n",
    "\n",
    "      min_dist = float('inf')\n",
    "      temp = None\n",
    "\n",
    "      for k in range(clusters):\n",
    "        x1, y1 = points[j,0], points[j,1]\n",
    "        x2, y2 = points[k,0], points[k,1]\n",
    "\n",
    "        if distance(x1, y1, x2, y2) <= min_dist:\n",
    "          min_dist = distance(x1, y1, x2, y2)\n",
    "          temp = k\n",
    "          index[j] = k\n",
    "\n",
    "    for k in range(clusters):\n",
    "      cluster_points = points[index == k]\n",
    "      if len(cluster_points) > 0:\n",
    "        means[k] = np.mean(cluster_points, axis=0)\n",
    "\n",
    "    iterations -= 1\n",
    "\n",
    "  return means, index"
   ]
  },
  {
   "cell_type": "code",
   "execution_count": 22,
   "metadata": {},
   "outputs": [],
   "source": [
    "def compress_image(means, index, img, clusters):\n",
    "  centroid = np.array(means)\n",
    "  recovered = centroid[index.astype(int), :]\n",
    "\n",
    "  recovered = recovered.reshape(img.shape)\n",
    "\n",
    "  plt.imshow(recovered)\n",
    "  plt.show()\n",
    "\n",
    "  cv2.imwrite('compressed_' + str(clusters) + '_colors.png', recovered)\n",
    "  return recovered"
   ]
  },
  {
   "cell_type": "code",
   "execution_count": 27,
   "metadata": {},
   "outputs": [],
   "source": [
    "\n",
    "if __name__ == '__main__':\n",
    "    img = read_image()\n",
    "\n",
    "    clusters = 16  # Default number of clusters\n",
    "    clusters = int(input('Enter the number of colors in the compressed image (default = 16): '))\n",
    "\n",
    "    start_time = time.time()\n",
    "    points, means = initialize_means(img, clusters)\n",
    "    means, index = k_means(points, means, clusters)\n",
    "    compress_image(means, index, img, clusters)\n",
    "    end_time = time.time()\n",
    "    computational_time = end_time - start_time\n",
    "\n",
    "    # Calculate PSNR\n",
    "    psnr_value = psnr(img, cv2.imread('compressed_' + str(clusters) + '_colors.png'))\n",
    "\n",
    "\n",
    "\n",
    "    # Calculate Compression Ratio\n",
    "    compressed_img = cv2.imread(r'D:\\SEM 4\\SIP\\Project\\K-means\\compressed_64_colors.png')\n",
    "    compressed_img = cv2.cvtColor(compressed_img, cv2.COLOR_BGR2RGB)\n",
    "    compressed_img = compressed_img/255.0\n",
    "\n",
    "    original_size = img.size\n",
    "    compressed_size = compressed_img.size \n",
    "    compression_ratio = original_size / compressed_size\n",
    "\n",
    "    print(f\"Computational Time: {computational_time:.4f} seconds\")\n",
    "    print(f\"PSNR: {psnr_value:.2f} dB\")\n",
    "    print(f\"Compression Ratio: {compression_ratio:.2f}\")\n",
    "\n",
    "\n",
    "\n",
    "# Original image size = 44.9kb\n",
    "# Compressed image size(2) = 1.79 kb\n",
    "# Compressed image size(16) = 14.2 kb\n",
    "# Compressed image size(64) = 23.8 kb"
   ]
  },
  {
   "cell_type": "code",
   "execution_count": null,
   "metadata": {},
   "outputs": [],
   "source": []
  }
 ],
 "metadata": {
  "kernelspec": {
   "display_name": "base",
   "language": "python",
   "name": "python3"
  },
  "language_info": {
   "codemirror_mode": {
    "name": "ipython",
    "version": 3
   },
   "file_extension": ".py",
   "mimetype": "text/x-python",
   "name": "python",
   "nbconvert_exporter": "python",
   "pygments_lexer": "ipython3",
   "version": "3.11.5"
  }
 },
 "nbformat": 4,
 "nbformat_minor": 2
}
